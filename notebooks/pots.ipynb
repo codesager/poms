{
 "cells": [
  {
   "cell_type": "markdown",
   "metadata": {},
   "source": [
    "## P.O.T.S - Portfolio, OMS and Transactions System"
   ]
  },
  {
   "cell_type": "code",
   "execution_count": null,
   "metadata": {},
   "outputs": [],
   "source": [
    "import os\n",
    "from typing import List, Optional\n",
    "from pydantic import BaseModel, Field, model_validator\n",
    "from langchain_core.prompts import ChatPromptTemplate, MessagesPlaceholder\n",
    "from langchain_openai import ChatOpenAI\n",
    "from dotenv  import find_dotenv, load_dotenv"
   ]
  },
  {
   "cell_type": "code",
   "execution_count": 4,
   "metadata": {},
   "outputs": [],
   "source": [
    "load_dotenv(find_dotenv())\n",
    "OPENAI_API_KEY = os.getenv(\"OPENAI_API_KEY\")"
   ]
  },
  {
   "cell_type": "code",
   "execution_count": 5,
   "metadata": {},
   "outputs": [],
   "source": [
    "llm = ChatOpenAI(api_key=OPENAI_API_KEY)"
   ]
  },
  {
   "cell_type": "markdown",
   "metadata": {},
   "source": [
    "## Create new pydantic models for handling user intents"
   ]
  },
  {
   "cell_type": "code",
   "execution_count": 19,
   "metadata": {},
   "outputs": [],
   "source": [
    "import datetime\n",
    "class PortfolioHolding(BaseModel):\n",
    "    ticker: Optional[str] = Field(default=None, description=\"ticker or list of tickers to fetch holdings for\")\n",
    "    accounts: Optional[List[str]] = Field(default=None, description=\"list of accounts to view holdings for\")\n",
    "    start_date: Optional[str] = Field(default=None, description=\"start date to evaluate the performace of accounts, if nothing is provided, consider it as today\")\n",
    "    end_date: Optional[str] = Field(default=None, description=\"end date to evaluate the performance of accounts\")\n",
    "    fields: Optional[List[str]] = Field(default=None, description=\"list of fields to fetch data for. These can be exposure, yield, duration, market value, price\")\n",
    "\n",
    "    @model_validator(mode='before')\n",
    "    def process_dates(cls, values):\n",
    "        if isinstance(values, dict):\n",
    "            start_date = values.get('start_date')\n",
    "            end_date = values.get('end_date')\n",
    "            \n",
    "            if start_date == None:\n",
    "                values['start_date'] = datetime.date.today().isoformat()\n",
    "\n",
    "            if start_date == 'today':\n",
    "                values['start_date'] = datetime.date.today().isoformat()\n",
    "            if end_date == 'today':\n",
    "                values['end_date'] = datetime.date.today().isoformat()\n",
    "                \n",
    "            if start_date == 'YTD':\n",
    "                values['start_date'] = f'{datetime.date.today().year}-01-01'\n",
    "                values['end_date'] = (datetime.date.today() - datetime.timedelta(days=1)).isoformat()\n",
    "        return values\n",
    "\n",
    "class PortfolioPerformance(BaseModel):\n",
    "    start_date: Optional[str] = Field(default=None, description=\"start date to evaluate the performace of accounts\")\n",
    "    end_date: Optional[str] = Field(default=None, description=\"end date to evaluate the performance of accounts\")\n",
    "    accounts: Optional[str] = Field(default=None, description=\"a single account or list of accounts to view performance\")\n",
    "    \n",
    "    @model_validator(mode='before')\n",
    "    def process_dates(cls, values):\n",
    "        if isinstance(values, dict):\n",
    "            start_date = values.get('start_date')\n",
    "            end_date = values.get('end_date')\n",
    "            \n",
    "            \n",
    "            if start_date == None:\n",
    "                values['start_date'] = datetime.date.today().isoformat()\n",
    "\n",
    "            if start_date == 'today':\n",
    "                values['start_date'] = datetime.date.today().isoformat()\n",
    "            if end_date == 'today':\n",
    "                values['end_date'] = datetime.date.today().isoformat()\n",
    "                \n",
    "            if start_date == 'YTD':\n",
    "                values['start_date'] = f'{datetime.date.today().year}-01-01'\n",
    "                values['end_date'] = (datetime.date.today() - datetime.timedelta(days=1)).isoformat()\n",
    "        return values\n",
    "    \n",
    "class Order(BaseModel):\n",
    "    \"\"\"Information about a trading order.\"\"\"\n",
    "\n",
    "    # ^ Doc-string for the entity Order.\n",
    "    # This doc-string is sent to the LLM as the description of the schema Order,\n",
    "    # and it can help to improve extraction results.\n",
    "\n",
    "    # Note that:\n",
    "    # 1. Each field is an `optional` -- this allows the model to decline to extract it!\n",
    "    # 2. Each field has a `description` -- this description is used by the LLM.\n",
    "    # Having a good description can help improve extraction results.\n",
    "    action: Optional[str] = Field(default=None, description=\"buy, sell or hold\")\n",
    "    ticker: Optional[str] = Field(default=None, description=\"ticker you want to trade\")\n",
    "    quantity: Optional[int] = Field(default=None, description=\"number of units to be traded\")\n",
    "    weight: Optional[float] = Field(default=None, description=\"weight of the total portfolio, usually in percentages\")\n",
    "    accounts: Optional[List[str]] = Field(default=None, description=\"a list of accounts to buy or sell orders\")"
   ]
  },
  {
   "cell_type": "markdown",
   "metadata": {},
   "source": [
    "### Create models for multiple entities"
   ]
  },
  {
   "cell_type": "code",
   "execution_count": 9,
   "metadata": {},
   "outputs": [],
   "source": [
    "class Orders(BaseModel):\n",
    "    \"\"\"Extracted data about orders.\"\"\"\n",
    "    orders: List[Order]\n",
    "\n",
    "class Holdings(BaseModel):\n",
    "    \"\"\"Extracted data about holdings.\"\"\"\n",
    "    holdings: List[PortfolioHolding]\n",
    "\n",
    "class Performances(BaseModel):\n",
    "    \"\"\"Extracted data about performance.\"\"\"\n",
    "    performances: List[PortfolioPerformance]"
   ]
  },
  {
   "cell_type": "markdown",
   "metadata": {},
   "source": [
    "### Prepare Examples"
   ]
  },
  {
   "cell_type": "code",
   "execution_count": null,
   "metadata": {},
   "outputs": [],
   "source": [
    "import uuid\n",
    "from typing import Dict, List, TypedDict\n",
    "\n",
    "from langchain_core.messages import (\n",
    "    AIMessage,\n",
    "    BaseMessage,\n",
    "    HumanMessage,\n",
    "    SystemMessage,\n",
    "    ToolMessage,\n",
    ")\n",
    "\n",
    "class Example(TypedDict):\n",
    "    \"\"\"A representation of an example consisting of text input and expected tool calls.\n",
    "\n",
    "    For extraction, the tool calls are represented as instances of pydantic model.\n",
    "    \"\"\"\n",
    "\n",
    "    input: str  # This is the example text\n",
    "    tool_calls: List[BaseModel]  # Instances of pydantic model that should be extracted\n",
    "\n",
    "\n",
    "def tool_example_to_messages(example: Example) -> List[BaseMessage]:\n",
    "    \"\"\"Convert an example into a list of messages that can be fed into an LLM.\n",
    "\n",
    "    This code is an adapter that converts our example to a list of messages\n",
    "    that can be fed into a chat model.\n",
    "\n",
    "    The list of messages per example corresponds to:\n",
    "\n",
    "    1) HumanMessage: contains the content from which content should be extracted.\n",
    "    2) AIMessage: contains the extracted information from the model\n",
    "    3) ToolMessage: contains confirmation to the model that the model requested a tool correctly.\n",
    "\n",
    "    The ToolMessage is required because some of the chat models are hyper-optimized for agents\n",
    "    rather than for an extraction use case.\n",
    "    \"\"\"\n",
    "    messages: List[BaseMessage] = [HumanMessage(content=example[\"input\"])]\n",
    "    openai_tool_calls = []\n",
    "    for tool_call in example[\"tool_calls\"]:\n",
    "        openai_tool_calls.append(\n",
    "            {\n",
    "                \"id\": str(uuid.uuid4()),\n",
    "                \"type\": \"function\",\n",
    "                \"function\": {\n",
    "                    # The name of the function right now corresponds\n",
    "                    # to the name of the pydantic model\n",
    "                    # This is implicit in the API right now,\n",
    "                    # and will be improved over time.\n",
    "                    \"name\": tool_call.__class__.__name__,\n",
    "                    \"arguments\": tool_call.model_dump_json(),\n",
    "                },\n",
    "            }\n",
    "        )\n",
    "    messages.append(\n",
    "        AIMessage(content=\"\", additional_kwargs={\"tool_calls\": openai_tool_calls})\n",
    "    )\n",
    "    tool_outputs = example.get(\"tool_outputs\") or [\n",
    "        \"You have correctly called this tool.\"\n",
    "    ] * len(openai_tool_calls)\n",
    "    for output, tool_call in zip(tool_outputs, openai_tool_calls):\n",
    "        messages.append(ToolMessage(content=output, tool_call_id=tool_call[\"id\"]))\n",
    "    return messages"
   ]
  },
  {
   "cell_type": "markdown",
   "metadata": {},
   "source": [
    "## Create examples to feed llm"
   ]
  },
  {
   "cell_type": "code",
   "execution_count": 11,
   "metadata": {},
   "outputs": [
    {
     "name": "stderr",
     "output_type": "stream",
     "text": [
      "C:\\Users\\cadaa\\AppData\\Local\\Temp\\ipykernel_51352\\3235975807.py:50: PydanticDeprecatedSince20: The `json` method is deprecated; use `model_dump_json` instead. Deprecated in Pydantic V2.0 to be removed in V3.0. See Pydantic V2 Migration Guide at https://errors.pydantic.dev/2.11/migration/\n",
      "  \"arguments\": tool_call.json(),\n"
     ]
    }
   ],
   "source": [
    "order_examples = [\n",
    "    (\n",
    "        \"Buy 250 AAPL in account capers\",\n",
    "        Order(action=\"buy\", quantity=250, ticker=\"aapl\", accounts=[\"capers\"]),\n",
    "    ),\n",
    "    (\n",
    "        \"Sell 500 TSLA in accounts capers, ushy and halifax\",\n",
    "        Order(action=\"sell\", ticker=\"tsla\", quantity=500, accounts=[\"ushy, halifax\"]),\n",
    "    ),\n",
    "    (\n",
    "        \"Roll 500 MSFT\",\n",
    "        Order(action=\"roll\", ticker=\"msft\", quantity=500, accounts=None),\n",
    "    ),\n",
    "    (\n",
    "        \"Increase exposure to aapl by 0.5%\",\n",
    "        Order(action=\"buy\",ticker=\"aapl\",quantity=None,weight=0.5, accounts=None)\n",
    "    ),\n",
    "    (\n",
    "        \"Decrease exposure to aapl by 0.5%\",\n",
    "        Order(action=\"sell\",ticker=\"aapl\",quantity=None,weight=0.5, accounts=None)\n",
    "    )\n",
    "]\n",
    "\n",
    "portfolio_holdings_examples = [\n",
    "    (\n",
    "        \"what are my holdings in account ABC as of today\",\n",
    "        PortfolioHolding(ticker=None, accounts=['ABC'], start_date='today', end_date=None, fields=['weight, price, mv, yield']),\n",
    "    ),\n",
    "    (\n",
    "        \"show me positions of TSLA in my account CAPERS\",\n",
    "        PortfolioHolding(ticker='TSLA', account=['CAPERS'], start_date='today', end_date=None, fields=['weight, price, mv, yield']),\n",
    "    ),\n",
    "    (\n",
    "        \"what's my exposure to MSFT in my accounts HALIFAX, MANIFAX and SIMFAX as of 31-Dec-2023\",\n",
    "        PortfolioHolding(ticker='MSFT', account=['HALIFAX, MANIFAX, SIMFAX'], start_date='31-Dec-2023', end_date=None, fields=['weight, price, mv, yield']),\n",
    "    ),\n",
    "    (\n",
    "        \"Show change of my positions in all of my accounts between 01-Jan-2024 to 03-31-2024\",\n",
    "        PortfolioHolding(ticker=None, account='ALL', start_date='01-Jan-2024', end_date='31-Mar-2024', fields=['weight, price, mv, yield']),\n",
    "    )\n",
    "]\n",
    "\n",
    "portfolio_performance_examples = [\n",
    "    (\n",
    "        \"what are my returns in account capers, ushy\",\n",
    "        PortfolioPerformance(accounts='capers,ushy', start_date='05-May-2024', end_date='02-May-2024'),\n",
    "    )\n",
    "]\n",
    "order_messages = []\n",
    "holding_messages = []\n",
    "performance_messages = []\n",
    "\n",
    "for text, tool_call in order_examples:\n",
    "    order_messages.extend(\n",
    "        tool_example_to_messages({\"input\": text, \"tool_calls\": [tool_call]})\n",
    "    )\n",
    "    \n",
    "for text, tool_call in portfolio_holdings_examples:\n",
    "    holding_messages.extend(\n",
    "        tool_example_to_messages({\"input\": text, \"tool_calls\": [tool_call]})\n",
    "    )\n",
    "\n",
    "for text, tool_call in portfolio_performance_examples:\n",
    "    performance_messages.extend(\n",
    "        tool_example_to_messages({\"input\": text, \"tool_calls\": [tool_call]})\n",
    "    )"
   ]
  },
  {
   "cell_type": "code",
   "execution_count": 12,
   "metadata": {},
   "outputs": [],
   "source": [
    "# order_prompt =  ChatPromptTemplate.from_messages([\n",
    "#     \"system: You are an expert extraction algorithm. Extract order details from the given text.\",\n",
    "#     \"human: {text}\"\n",
    "# ])\n",
    "\n",
    "# Define prompts for new entities\n",
    "holding_prompt = ChatPromptTemplate.from_messages([\n",
    "    (\n",
    "        \"system\",\n",
    "            \"You are an expert extraction algorithm. \"\n",
    "            \"Only extract relevant information from the text. \"\n",
    "            \"When user inputs today, convert it to system date \"\n",
    "            \"Extract portfolio holdings information from the given text \"\n",
    "            \"If you do not know the value of an attribute asked to extract, \"\n",
    "            \"return null for the attribute's value.\",\n",
    "    ),\n",
    "    MessagesPlaceholder('portfolio_holdings_examples'),\n",
    "    (\"human\", \"{text}\"),\n",
    "])\n",
    "\n",
    "order_prompt = ChatPromptTemplate.from_messages( [\n",
    "        (\n",
    "            \"system\",\n",
    "            \"You are an expert extraction algorithm. \"\n",
    "            \"Only extract relevant information from the text. \"\n",
    "            \"Extract order details information from the given text \"\n",
    "            \"If you do not know the value of an attribute asked to extract, \"\n",
    "            \"return null for the attribute's value.\",\n",
    "        ),\n",
    "        MessagesPlaceholder('order_examples'),\n",
    "        (\"human\", \"{text}\"),\n",
    "    ])\n",
    "\n",
    "performance_prompt = ChatPromptTemplate.from_messages([\n",
    "    (\n",
    "        \"system\",\n",
    "            \"You are an expert extraction algorithm. \"\n",
    "            \"Only extract relevant information from the text. \"\n",
    "            \"Extract portfolio performance information from the given text \"\n",
    "            \"If you do not know the value of an attribute asked to extract, \"\n",
    "            \"return null for the attribute's value.\",\n",
    "    ),\n",
    "    MessagesPlaceholder('portfolio_performance_examples'),\n",
    "    (\"human\", \"{text}\"),\n",
    "])"
   ]
  },
  {
   "cell_type": "code",
   "execution_count": 13,
   "metadata": {},
   "outputs": [],
   "source": [
    "order_runnable = order_prompt | llm.with_structured_output(\n",
    "    schema=Orders,\n",
    "    method='function_calling',\n",
    "    include_raw=False\n",
    ")\n",
    "\n",
    "portfolio_holding_runnable = holding_prompt | llm.with_structured_output(\n",
    "    schema=Holdings,\n",
    "    method='function_calling',\n",
    "    include_raw=False\n",
    ")\n",
    "\n",
    "portfolio_performance_runnable = performance_prompt | llm.with_structured_output(\n",
    "    schema=Performances,\n",
    "    method='function_calling',\n",
    "    include_raw=False\n",
    ")"
   ]
  },
  {
   "cell_type": "code",
   "execution_count": 14,
   "metadata": {},
   "outputs": [],
   "source": [
    "def route_input_and_extract(text):\n",
    "    if \"buy\" in text.lower() or \"sell\" in text.lower() or (\"increase\" in text.lower() or \"decrease\" in text.lower()):\n",
    "        return order_runnable.invoke({\"order_examples\": [], \"text\": text})\n",
    "    elif any(keyword in text.lower() for keyword in [\"hold\", \"position\",\"exposure\", \"yield\", \"duration\"]):\n",
    "        return portfolio_holding_runnable.invoke({\"portfolio_holdings_examples\": [], \"text\": text})\n",
    "    elif any(keyword in text.lower() for keyword in [\"performance\", \"return\"]):\n",
    "        return portfolio_performance_runnable.invoke({\"portfolio_performance_examples\": [], \"text\": text})\n",
    "    else:\n",
    "        return None"
   ]
  },
  {
   "cell_type": "code",
   "execution_count": 15,
   "metadata": {},
   "outputs": [
    {
     "name": "stdout",
     "output_type": "stream",
     "text": [
      "orders=[Order(action='sell', ticker='rivn', quantity=None, weight=0.5, accounts=None), Order(action='sell', ticker='tsla', quantity=None, weight=0.5, accounts=None), Order(action='sell', ticker='lcid', quantity=None, weight=0.5, accounts=None)]\n"
     ]
    }
   ],
   "source": [
    "text = text = \"I want to decrease my exposure to rivn, tsla and lcid by 0.5% \"\n",
    "result = route_input_and_extract(text)\n",
    "print(result) "
   ]
  },
  {
   "cell_type": "code",
   "execution_count": 16,
   "metadata": {},
   "outputs": [
    {
     "name": "stdout",
     "output_type": "stream",
     "text": [
      "orders=[Order(action='buy', ticker='TSLA', quantity=100, weight=None, accounts=['ushy', 'melagg', 'ukhy']), Order(action='buy', ticker='RIVN', quantity=100, weight=None, accounts=['ushy', 'melagg', 'ukhy']), Order(action='buy', ticker='SBI', quantity=100, weight=None, accounts=['ushy', 'melagg', 'ukhy'])]\n"
     ]
    }
   ],
   "source": [
    "text = \"I want to buy 100 tsla, rivn, sbi in each of the accounts ushy, melagg and ukhy\"\n",
    "result = route_input_and_extract(text)\n",
    "print(result) "
   ]
  },
  {
   "cell_type": "code",
   "execution_count": 16,
   "metadata": {},
   "outputs": [
    {
     "name": "stdout",
     "output_type": "stream",
     "text": [
      "orders=[Order(action='buy', ticker='a', quantity=None, weight=0.5, accounts=['ushy', 'melagg', 'ukhy']), Order(action='buy', ticker='b', quantity=None, weight=0.5, accounts=['ushy', 'melagg', 'ukhy']), Order(action='buy', ticker='c', quantity=None, weight=0.5, accounts=['ushy', 'melagg', 'ukhy'])]\n"
     ]
    }
   ],
   "source": [
    "text = \"Increase my exposure to a, b, c in accounts ushy, melagg and ukhy by 0.5 %\"\n",
    "result = route_input_and_extract(text)\n",
    "print(result) "
   ]
  },
  {
   "cell_type": "code",
   "execution_count": 18,
   "metadata": {},
   "outputs": [
    {
     "name": "stdout",
     "output_type": "stream",
     "text": [
      "holdings=[PortfolioHolding(ticker=None, accounts=['ABHI'], start_date='2025-09-28', end_date=None, fields=None)]\n"
     ]
    }
   ],
   "source": [
    "text = \"what are my holdings in account ABHI as of today\"\n",
    "result = route_input_and_extract(text)\n",
    "print(result) "
   ]
  },
  {
   "cell_type": "code",
   "execution_count": 14,
   "metadata": {},
   "outputs": [
    {
     "name": "stdout",
     "output_type": "stream",
     "text": [
      "holdings=[PortfolioHolding(ticker='xyz', accounts=['USHY', 'CAPERS'], start_date='2024-05-05', end_date=None, fields=None)]\n"
     ]
    }
   ],
   "source": [
    "text = \"show me positions of cusip xyz in accounts USHY, CAPERS\"\n",
    "result = route_input_and_extract(text)\n",
    "print(result) "
   ]
  },
  {
   "cell_type": "code",
   "execution_count": 17,
   "metadata": {},
   "outputs": [
    {
     "name": "stdout",
     "output_type": "stream",
     "text": [
      "holdings=[PortfolioHolding(ticker='xyz', accounts=['A1', 'B1'], start_date='31-Mar-2024', end_date='31-Mar-2024', fields=None)]\n"
     ]
    }
   ],
   "source": [
    "text = \"how much of xyz do I hold in accounts A1 and B1 as of 31-Mar-2024\"\n",
    "result = route_input_and_extract(text)\n",
    "print(result) "
   ]
  }
 ],
 "metadata": {
  "kernelspec": {
   "display_name": "env",
   "language": "python",
   "name": "python3"
  },
  "language_info": {
   "codemirror_mode": {
    "name": "ipython",
    "version": 3
   },
   "file_extension": ".py",
   "mimetype": "text/x-python",
   "name": "python",
   "nbconvert_exporter": "python",
   "pygments_lexer": "ipython3",
   "version": "3.13.7"
  }
 },
 "nbformat": 4,
 "nbformat_minor": 2
}
